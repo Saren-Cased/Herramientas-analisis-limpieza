{
 "cells": [
  {
   "cell_type": "code",
   "execution_count": 1,
   "id": "6936e24e",
   "metadata": {},
   "outputs": [
    {
     "name": "stderr",
     "output_type": "stream",
     "text": [
      "C:\\Users\\Edan\\AppData\\Local\\Temp\\ipykernel_18492\\2109589165.py:5: DtypeWarning: Columns (12) have mixed types. Specify dtype option on import or set low_memory=False.\n",
      "  dfCRE = pd.read_csv(\"COLOMBIANOS_REGISTRADOS_EN_EL_EXTERIOR_20250403.csv\")\n"
     ]
    }
   ],
   "source": [
    "#Utilizo la libreria de Pandas\n",
    "import pandas as pd\n",
    "\n",
    "#Guarda los datos en un Data Frame llamdo dfCRE del archivo csv COLOMBIANOS_REGISTRADOS_EN_EL_EXTERIOR_20250403\n",
    "dfCRE = pd.read_csv(\"COLOMBIANOS_REGISTRADOS_EN_EL_EXTERIOR_20250403.csv\")"
   ]
  },
  {
   "cell_type": "code",
   "execution_count": 2,
   "id": "8cf00d2c",
   "metadata": {},
   "outputs": [
    {
     "data": {
      "text/plain": [
       "(1672255, 17)"
      ]
     },
     "execution_count": 2,
     "metadata": {},
     "output_type": "execute_result"
    }
   ],
   "source": [
    "#Muestra la cantidad de filas y columnas del data set\n",
    "dfCRE.shape"
   ]
  },
  {
   "cell_type": "code",
   "execution_count": 13,
   "id": "5fc7cbe6",
   "metadata": {},
   "outputs": [
    {
     "name": "stdout",
     "output_type": "stream",
     "text": [
      "<class 'pandas.core.frame.DataFrame'>\n",
      "RangeIndex: 1672255 entries, 0 to 1672254\n",
      "Data columns (total 17 columns):\n",
      " #   Column                 Non-Null Count    Dtype \n",
      "---  ------                 --------------    ----- \n",
      " 0   País                   1672255 non-null  object\n",
      " 1   Código ISO país        1672255 non-null  object\n",
      " 2   Ciudad de Residencia   1672255 non-null  object\n",
      " 3   Oficina de registro    1672255 non-null  object\n",
      " 4   Grupo edad             1672255 non-null  object\n",
      " 5   Edad (años)            1672255 non-null  int64 \n",
      " 6   Área Conocimiento      1672255 non-null  object\n",
      " 7   Sub Area Conocimiento  1672255 non-null  object\n",
      " 8   Nivel Académico        1672255 non-null  object\n",
      " 9   Estado civil           1672255 non-null  object\n",
      " 10  Género                 1672255 non-null  object\n",
      " 11  Etnia de la persona    1672255 non-null  object\n",
      " 12  Estatura (CM)          1672255 non-null  object\n",
      " 13  Ciudad de Nacimiento   1672255 non-null  object\n",
      " 14  Localización           1672255 non-null  object\n",
      " 15  Fecha de Registro      1672255 non-null  object\n",
      " 16  Cantidad de personas   1672255 non-null  int64 \n",
      "dtypes: int64(2), object(15)\n",
      "memory usage: 216.9+ MB\n"
     ]
    }
   ],
   "source": [
    "#Metodo info() muestra la informacion de las columnas encabezado y el tipo de datos\n",
    "dfCRE.info()"
   ]
  },
  {
   "cell_type": "code",
   "execution_count": null,
   "id": "fbf0fed0",
   "metadata": {},
   "outputs": [],
   "source": [
    "#Metodo drop remueve las columnas que no son necesarias para el analisis\n",
    "dfCRE_cleaned = dfCRE.drop(columns=[\"Etnia de la persona\", \"Cantidad de personas\"])"
   ]
  },
  {
   "cell_type": "code",
   "execution_count": null,
   "id": "ecb35359",
   "metadata": {},
   "outputs": [],
   "source": [
    "#Metodo rename se utiliza en las columnas para cambiar el titulo, las sustituciones se realizan en el DataFrame\n",
    "\n",
    "#PAIS\n",
    "dfCRE_cleaned.rename(columns={'País': 'PAIS'}, inplace=True)\n",
    "\n",
    "#CODIGO_ISO_PAIS\n",
    "dfCRE_cleaned.rename(columns={'Código ISO país': 'CODIGO_ISO_PAIS'}, inplace=True)\n",
    "\n",
    "#CIUDAD_DE_RESIDENCIA\n",
    "dfCRE_cleaned.rename(columns={'Ciudad de Residencia': 'CIUDAD_DE_RESIDENCIA'}, inplace=True)\n",
    "\n",
    "#OFICINA_DE_REGISTRO\n",
    "dfCRE_cleaned.rename(columns={'Oficina de registro': 'OFICINA_DE_REGISTRO'}, inplace=True)\n",
    "\n",
    "#GRUPO_EDAD\n",
    "dfCRE_cleaned.rename(columns={'Grupo edad': 'GRUPO_EDAD'}, inplace=True)\n",
    "\n",
    "#EDAD_ANOS\n",
    "dfCRE_cleaned.rename(columns={'Edad (años)': 'EDAD_ANOS'}, inplace=True)\n",
    "\n",
    "#AREA_CONOCIMIENTO\n",
    "dfCRE_cleaned.rename(columns={'Área Conocimiento': 'AREA_CONOCIMIENTO'}, inplace=True)\n",
    "\n",
    "#SUB_AREA_CONOCIMIENTO\n",
    "dfCRE_cleaned.rename(columns={'Sub Area Conocimiento': 'SUB_AREA_CONOCIMIENTO'}, inplace=True)\n",
    "\n",
    "#NIVEL_ACADEMICO\n",
    "dfCRE_cleaned.rename(columns={'Nivel Académico': 'NIVEL_ACADEMICO'}, inplace=True)\n",
    "\n",
    "#ESTADO_CIVIL\n",
    "dfCRE_cleaned.rename(columns={'Estado civil': 'ESTADO_CIVIL'}, inplace=True)\n",
    "\n",
    "#GENERO\n",
    "dfCRE_cleaned.rename(columns={'Género': 'GENERO'}, inplace=True)\n",
    "\n",
    "#Estatura_CM\n",
    "dfCRE_cleaned.rename(columns={'Estatura (CM)': 'ESTATURA_CM'}, inplace=True)\n",
    "\n",
    "#CIUDAD_DE_NACIMIENTO\n",
    "dfCRE_cleaned.rename(columns={'Ciudad de Nacimiento': 'CIUDAD_DE_NACIMIENTO'}, inplace=True)\n",
    "\n",
    "#LOCALIZACION\n",
    "dfCRE_cleaned.rename(columns={'Localización': 'LOCALIZACION'}, inplace=True)\n",
    "\n",
    "#FECHA_DE_REGISTRO\n",
    "dfCRE_cleaned.rename(columns={'Fecha de Registro': 'FECHA_DE_REGISTRO'}, inplace=True)"
   ]
  },
  {
   "cell_type": "code",
   "execution_count": 21,
   "id": "c307b5c8",
   "metadata": {},
   "outputs": [
    {
     "name": "stdout",
     "output_type": "stream",
     "text": [
      "<class 'pandas.core.frame.DataFrame'>\n",
      "RangeIndex: 1672255 entries, 0 to 1672254\n",
      "Data columns (total 15 columns):\n",
      " #   Column                 Non-Null Count    Dtype \n",
      "---  ------                 --------------    ----- \n",
      " 0   PAIS                   1672255 non-null  object\n",
      " 1   CODIGO_ISO_PAIS        1672255 non-null  object\n",
      " 2   CIUDAD_DE_RESIDENCIA   1672255 non-null  object\n",
      " 3   OFICINA_DE_REGISTRO    1672255 non-null  object\n",
      " 4   GRUPO_EDAD             1672255 non-null  object\n",
      " 5   EDAD_ANOS              1672255 non-null  int64 \n",
      " 6   AREA_CONOCIMIENTO      1672255 non-null  object\n",
      " 7   SUB_AREA_CONOCIMIENTO  1672255 non-null  object\n",
      " 8   NIVEL_ACADEMICO        1672255 non-null  object\n",
      " 9   ESTADO_CIVIL           1672255 non-null  object\n",
      " 10  GENERO                 1672255 non-null  object\n",
      " 11  ESTATURA_CM            1672255 non-null  object\n",
      " 12  CIUDAD_DE_NACIMIENTO   1672255 non-null  object\n",
      " 13  LOCALIZACION           1672255 non-null  object\n",
      " 14  FECHA_DE_REGISTRO      1672255 non-null  object\n",
      "dtypes: int64(1), object(14)\n",
      "memory usage: 191.4+ MB\n"
     ]
    }
   ],
   "source": [
    "#Con el nuevo conjunto de datos muestra la informacion sin las columnas eliminadas\n",
    "dfCRE_cleaned.info()"
   ]
  },
  {
   "cell_type": "code",
   "execution_count": 22,
   "id": "7c8789ec",
   "metadata": {},
   "outputs": [
    {
     "data": {
      "text/plain": [
       "array(['NO INDICA', 'BACHILLERATO', 'PRIMARIA', 'PREGRADO - PROFESIONAL',\n",
       "       'NINGUNO', 'POSTGRADO - MAESTRIA', 'POSTGRADO - DOCTORADO',\n",
       "       'PREGRADO - TECNOL�GICO', 'PREGRADO - T�CNICO PROFESIONAL',\n",
       "       'POSTGRADO - ESPECIALIZACI�N', '(NO REGISTRA)', 'SIN PROFESI�N',\n",
       "       'ESPECIALIZACI�N', 'TECNOL�GICA', 'UNIVERSITARIO',\n",
       "       'T�CNICA PROFESIONAL', 'MAESTRIA'], dtype=object)"
      ]
     },
     "execution_count": 22,
     "metadata": {},
     "output_type": "execute_result"
    }
   ],
   "source": [
    "dfCRE_cleaned.NIVEL_ACADEMICO.unique()"
   ]
  },
  {
   "cell_type": "code",
   "execution_count": null,
   "id": "be36e78a",
   "metadata": {},
   "outputs": [],
   "source": [
    "#Metodo replace se utiliza para cambiar las palabras o frases en la columna NIVEL_ACADEMICO se realiza la sustitucion correspondiente\n",
    "\n",
    "dfCRE_cleaned.NIVEL_ACADEMICO = dfCRE_cleaned.NIVEL_ACADEMICO.replace(\"PREGRADO - TECNOL�GICO\", \"PREGRADO - TECNOLOGICO\")\n",
    "dfCRE_cleaned.NIVEL_ACADEMICO = dfCRE_cleaned.NIVEL_ACADEMICO.replace(\"PREGRADO - T�CNICO PROFESIONAL\", \"PREGRADO - TECNICO PROFESIONAL\")\n",
    "dfCRE_cleaned.NIVEL_ACADEMICO = dfCRE_cleaned.NIVEL_ACADEMICO.replace(\"POSTGRADO - ESPECIALIZACI�N\", \"POSTGRADO - ESPECIALIZACION\")\n",
    "dfCRE_cleaned.NIVEL_ACADEMICO = dfCRE_cleaned.NIVEL_ACADEMICO.replace(\"SIN PROFESI�N\", \"SIN PROFESION\")\n",
    "dfCRE_cleaned.NIVEL_ACADEMICO = dfCRE_cleaned.NIVEL_ACADEMICO.replace(\"ESPECIALIZACI�N\", \"ESPECIALIZACION\")\n",
    "dfCRE_cleaned.NIVEL_ACADEMICO = dfCRE_cleaned.NIVEL_ACADEMICO.replace(\"TECNOL�GICA\", \"TECNOLOGICA\")\n",
    "dfCRE_cleaned.NIVEL_ACADEMICO = dfCRE_cleaned.NIVEL_ACADEMICO.replace(\"T�CNICA PROFESIONAL\", \"TECNICA PROFESIONAL\")"
   ]
  },
  {
   "cell_type": "code",
   "execution_count": null,
   "id": "18127fa1",
   "metadata": {},
   "outputs": [
    {
     "data": {
      "text/plain": [
       "['(NO REGISTRA)',\n",
       " 'BACHILLERATO',\n",
       " 'ESPECIALIZACION',\n",
       " 'MAESTRIA',\n",
       " 'NINGUNO',\n",
       " 'NO INDICA',\n",
       " 'POSTGRADO - DOCTORADO',\n",
       " 'POSTGRADO - ESPECIALIZACION',\n",
       " 'POSTGRADO - MAESTRIA',\n",
       " 'PREGRADO - PROFESIONAL',\n",
       " 'PREGRADO - TECNICO PROFESIONAL',\n",
       " 'PREGRADO - TECNOLOGICO',\n",
       " 'PRIMARIA',\n",
       " 'SIN PROFESION',\n",
       " 'TECNICA PROFESIONAL',\n",
       " 'TECNOLOGICA',\n",
       " 'UNIVERSITARIO']"
      ]
     },
     "execution_count": 27,
     "metadata": {},
     "output_type": "execute_result"
    }
   ],
   "source": [
    "#Metodo sorted muestra los valores de la columna ordenados de la forma alfabetica\n",
    "\n",
    "sorted(dfCRE_cleaned.NIVEL_ACADEMICO.unique())"
   ]
  },
  {
   "cell_type": "code",
   "execution_count": 38,
   "id": "21c3f087",
   "metadata": {},
   "outputs": [
    {
     "data": {
      "text/plain": [
       "np.int64(-1)"
      ]
     },
     "execution_count": 38,
     "metadata": {},
     "output_type": "execute_result"
    }
   ],
   "source": [
    "#Columna edad en años valor minimo\n",
    "\n",
    "dfCRE_cleaned.EDAD_ANOS.min()\n"
   ]
  },
  {
   "cell_type": "code",
   "execution_count": null,
   "id": "96d993c4",
   "metadata": {},
   "outputs": [
    {
     "data": {
      "text/plain": [
       "np.int64(139)"
      ]
     },
     "execution_count": 31,
     "metadata": {},
     "output_type": "execute_result"
    }
   ],
   "source": [
    "#Columna edad en años valor maximo\n",
    "\n",
    "dfCRE_cleaned.EDAD_ANOS.max()"
   ]
  },
  {
   "cell_type": "code",
   "execution_count": null,
   "id": "96367997",
   "metadata": {},
   "outputs": [
    {
     "data": {
      "text/plain": [
       "np.float64(43.876045818371004)"
      ]
     },
     "execution_count": 33,
     "metadata": {},
     "output_type": "execute_result"
    }
   ],
   "source": [
    "#Promedio columna edad en años\n",
    "\n",
    "dfCRE_cleaned.EDAD_ANOS.mean()"
   ]
  },
  {
   "cell_type": "code",
   "execution_count": null,
   "id": "ade33497",
   "metadata": {},
   "outputs": [
    {
     "data": {
      "text/plain": [
       "np.float64(42.0)"
      ]
     },
     "execution_count": 35,
     "metadata": {},
     "output_type": "execute_result"
    }
   ],
   "source": [
    "#Mediana columna edad en años\n",
    "\n",
    "dfCRE_cleaned.EDAD_ANOS.median()"
   ]
  },
  {
   "cell_type": "code",
   "execution_count": null,
   "id": "240dac56",
   "metadata": {},
   "outputs": [
    {
     "data": {
      "text/plain": [
       "0    35\n",
       "Name: EDAD_ANOS, dtype: int64"
      ]
     },
     "execution_count": 36,
     "metadata": {},
     "output_type": "execute_result"
    }
   ],
   "source": [
    "#Moda columna edad en años\n",
    "\n",
    "dfCRE_cleaned.EDAD_ANOS.mode()"
   ]
  },
  {
   "cell_type": "code",
   "execution_count": null,
   "id": "41955c92",
   "metadata": {},
   "outputs": [
    {
     "data": {
      "text/plain": [
       "np.float64(42.0)"
      ]
     },
     "execution_count": 37,
     "metadata": {},
     "output_type": "execute_result"
    }
   ],
   "source": [
    "#Percentil 50% columna edad en años\n",
    "\n",
    "dfCRE_cleaned.EDAD_ANOS.quantile(0.5)"
   ]
  },
  {
   "cell_type": "code",
   "execution_count": 39,
   "id": "299f37c3",
   "metadata": {},
   "outputs": [
    {
     "data": {
      "text/plain": [
       "np.float64(16.73715557266808)"
      ]
     },
     "execution_count": 39,
     "metadata": {},
     "output_type": "execute_result"
    }
   ],
   "source": [
    "# Desviación Estándar columna edad en años\n",
    "\n",
    "dfCRE_cleaned.EDAD_ANOS.std()"
   ]
  },
  {
   "cell_type": "code",
   "execution_count": 41,
   "id": "826e7682",
   "metadata": {},
   "outputs": [
    {
     "data": {
      "text/plain": [
       "array([ 16,  -1,  12,  52,  46,  13,  14,  15,  17,  29,  57,  35,  30,\n",
       "        22,  28,  31,  48,  32,  49,  60,  69,  71,  33,  42,  34,  39,\n",
       "        36,  25,  38,  68,  55,  27,  53,  65,  74,  51,  37,  44,  58,\n",
       "        87,  41,  40,  59,  18,  50,  43,  10,  73,  45,  47,   9,  54,\n",
       "        56,  62,  19,  20,  21,  23,  24,  67,  82,  26,  64,  63,  72,\n",
       "        75,  84,   8,  70,  11,   0,   1,   2,   3,   4,   5,  79,  80,\n",
       "         7,  83,  66,  61,  77,  81,   6,  78,  76,  89,  94,  88,  85,\n",
       "        92,  90,  96,  86,  97,  91,  95, 102,  93, 115, 103,  98,  99,\n",
       "       109, 101, 111, 100, 105, 104, 110, 135, 106, 108, 107, 112, 113,\n",
       "       114, 133, 125, 132, 139, 127, 131, 128, 121, 134, 120, 118, 116])"
      ]
     },
     "execution_count": 41,
     "metadata": {},
     "output_type": "execute_result"
    }
   ],
   "source": [
    "dfCRE_cleaned.EDAD_ANOS.unique()"
   ]
  },
  {
   "cell_type": "code",
   "execution_count": 42,
   "id": "2cd75f9c",
   "metadata": {},
   "outputs": [
    {
     "name": "stdout",
     "output_type": "stream",
     "text": [
      "\n",
      "El archivo CSV ha sido guardado.\n"
     ]
    }
   ],
   "source": [
    "#DataFrame de limpieza se guarda en un documento csv\n",
    "#index=False para no guardar indices como columna\n",
    "\n",
    "dfCRE_cleaned.to_csv(\"COLOMBIANOS_EXTERIOR_LIMPIEZA.csv\", index=False)\n",
    "\n",
    "print(\"\\nEl archivo CSV ha sido guardado.\")"
   ]
  }
 ],
 "metadata": {
  "kernelspec": {
   "display_name": "Python 3",
   "language": "python",
   "name": "python3"
  },
  "language_info": {
   "codemirror_mode": {
    "name": "ipython",
    "version": 3
   },
   "file_extension": ".py",
   "mimetype": "text/x-python",
   "name": "python",
   "nbconvert_exporter": "python",
   "pygments_lexer": "ipython3",
   "version": "3.12.9"
  }
 },
 "nbformat": 4,
 "nbformat_minor": 5
}
